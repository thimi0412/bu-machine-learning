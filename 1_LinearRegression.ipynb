{
 "cells": [
  {
   "cell_type": "code",
   "execution_count": 1,
   "metadata": {},
   "outputs": [],
   "source": [
    "import numpy as np\n",
    "import matplotlib.pyplot as plt\n",
    "%matplotlib inline"
   ]
  },
  {
   "cell_type": "markdown",
   "metadata": {},
   "source": [
    "# Numpy練習"
   ]
  },
  {
   "cell_type": "markdown",
   "metadata": {},
   "source": [
    "## ndarrayの作成\n",
    "numpyの多次元配列のようなもの"
   ]
  },
  {
   "cell_type": "code",
   "execution_count": 2,
   "metadata": {},
   "outputs": [
    {
     "data": {
      "text/plain": [
       "array([[1, 2],\n",
       "       [3, 4]])"
      ]
     },
     "execution_count": 2,
     "metadata": {},
     "output_type": "execute_result"
    }
   ],
   "source": [
    "a = [[1, 2], [3, 4]]\n",
    "a = np.array(a)\n",
    "a"
   ]
  },
  {
   "cell_type": "code",
   "execution_count": 3,
   "metadata": {},
   "outputs": [
    {
     "data": {
      "text/plain": [
       "array([[1., 1., 1., 1.],\n",
       "       [1., 1., 1., 1.],\n",
       "       [1., 1., 1., 1.]])"
      ]
     },
     "execution_count": 3,
     "metadata": {},
     "output_type": "execute_result"
    }
   ],
   "source": [
    "# 3行4列の成分が全て1の行列を作成\n",
    "ones = np.ones([3, 4])\n",
    "ones"
   ]
  },
  {
   "cell_type": "markdown",
   "metadata": {},
   "source": [
    "## 行列計算"
   ]
  },
  {
   "cell_type": "code",
   "execution_count": 4,
   "metadata": {},
   "outputs": [
    {
     "data": {
      "text/plain": [
       "array([[2, 4],\n",
       "       [6, 8]])"
      ]
     },
     "execution_count": 4,
     "metadata": {},
     "output_type": "execute_result"
    }
   ],
   "source": [
    "a * 2"
   ]
  },
  {
   "cell_type": "code",
   "execution_count": 5,
   "metadata": {},
   "outputs": [
    {
     "data": {
      "text/plain": [
       "array([[3, 4],\n",
       "       [5, 6]])"
      ]
     },
     "execution_count": 5,
     "metadata": {},
     "output_type": "execute_result"
    }
   ],
   "source": [
    "a + 2"
   ]
  },
  {
   "cell_type": "code",
   "execution_count": 6,
   "metadata": {},
   "outputs": [
    {
     "data": {
      "text/plain": [
       "array([[3, 5],\n",
       "       [2, 6]])"
      ]
     },
     "execution_count": 6,
     "metadata": {},
     "output_type": "execute_result"
    }
   ],
   "source": [
    "b = np.array([[2, 3], [-1, 2]])\n",
    "# 足し算\n",
    "a + b"
   ]
  },
  {
   "cell_type": "code",
   "execution_count": 7,
   "metadata": {
    "scrolled": true
   },
   "outputs": [
    {
     "data": {
      "text/plain": [
       "array([[-1, -1],\n",
       "       [ 4,  2]])"
      ]
     },
     "execution_count": 7,
     "metadata": {},
     "output_type": "execute_result"
    }
   ],
   "source": [
    "# 引き算\n",
    "a - b"
   ]
  },
  {
   "cell_type": "code",
   "execution_count": 8,
   "metadata": {},
   "outputs": [
    {
     "data": {
      "text/plain": [
       "array([[ 2,  6],\n",
       "       [-3,  8]])"
      ]
     },
     "execution_count": 8,
     "metadata": {},
     "output_type": "execute_result"
    }
   ],
   "source": [
    "# 掛け算\n",
    "a * b"
   ]
  },
  {
   "cell_type": "code",
   "execution_count": 9,
   "metadata": {
    "scrolled": false
   },
   "outputs": [
    {
     "data": {
      "text/plain": [
       "array([[ 0.5       ,  0.66666667],\n",
       "       [-3.        ,  2.        ]])"
      ]
     },
     "execution_count": 9,
     "metadata": {},
     "output_type": "execute_result"
    }
   ],
   "source": [
    "# 割り算\n",
    "a / b"
   ]
  },
  {
   "cell_type": "markdown",
   "metadata": {},
   "source": [
    "## 内積・逆行列・転置行列"
   ]
  },
  {
   "cell_type": "code",
   "execution_count": 10,
   "metadata": {
    "scrolled": true
   },
   "outputs": [
    {
     "data": {
      "text/plain": [
       "array([[ 0,  7],\n",
       "       [ 2, 17]])"
      ]
     },
     "execution_count": 10,
     "metadata": {},
     "output_type": "execute_result"
    }
   ],
   "source": [
    "# 内積\n",
    "a.dot(b)"
   ]
  },
  {
   "cell_type": "code",
   "execution_count": 11,
   "metadata": {},
   "outputs": [
    {
     "data": {
      "text/plain": [
       "array([[-2. ,  1. ],\n",
       "       [ 1.5, -0.5]])"
      ]
     },
     "execution_count": 11,
     "metadata": {},
     "output_type": "execute_result"
    }
   ],
   "source": [
    "# 逆行列\n",
    "np.linalg.inv(a)"
   ]
  },
  {
   "cell_type": "code",
   "execution_count": 12,
   "metadata": {},
   "outputs": [
    {
     "data": {
      "text/plain": [
       "array([[1, 3],\n",
       "       [2, 4]])"
      ]
     },
     "execution_count": 12,
     "metadata": {},
     "output_type": "execute_result"
    }
   ],
   "source": [
    "# 転置行列\n",
    "a.T"
   ]
  },
  {
   "cell_type": "markdown",
   "metadata": {},
   "source": [
    "# matplotlib練習"
   ]
  },
  {
   "cell_type": "markdown",
   "metadata": {},
   "source": [
    "## 直線を引く"
   ]
  },
  {
   "cell_type": "code",
   "execution_count": 13,
   "metadata": {},
   "outputs": [
    {
     "data": {
      "text/plain": [
       "[<matplotlib.lines.Line2D at 0x10e91b7b8>]"
      ]
     },
     "execution_count": 13,
     "metadata": {},
     "output_type": "execute_result"
    },
    {
     "data": {
      "image/png": "[encoded data removed]",
      "text/plain": [
       "<Figure size 576x360 with 1 Axes>"
      ]
     },
     "metadata": {
      "needs_background": "light"
     },
     "output_type": "display_data"
    }
   ],
   "source": [
    "plt.figure(figsize=(8, 5)) # グラフの大きさを設定\n",
    "# 第一引数: xが0から1に変化\n",
    "# 第二引数: yが0から1に変化\n",
    "plt.plot([0, 1], [0, 1])"
   ]
  },
  {
   "cell_type": "markdown",
   "metadata": {},
   "source": [
    "## 関数を描画する"
   ]
  },
  {
   "cell_type": "code",
   "execution_count": 14,
   "metadata": {},
   "outputs": [
    {
     "data": {
      "text/plain": [
       "[-6, 6, -1.2, 1.2]"
      ]
     },
     "execution_count": 14,
     "metadata": {},
     "output_type": "execute_result"
    },
    {
     "data": {
      "image/png": "[encoded data removed]",
      "text/plain": [
       "<Figure size 576x360 with 1 Axes>"
      ]
     },
     "metadata": {
      "needs_background": "light"
     },
     "output_type": "display_data"
    }
   ],
   "source": [
    "# y = sin(x)を描画する\n",
    "x = np.linspace(-2*np.pi, 2*np.pi, 100) # -2πから2πまで１００個の点を取る\n",
    "y = np.sin(x)\n",
    "\n",
    "plt.figure(figsize=(8, 5))\n",
    "plt.plot([0, 0], [-2, 2], color='black')\n",
    "plt.plot([-6, 6], [0, 0], color='black')\n",
    "plt.plot(x, y)\n",
    "plt.axis([-6, 6, -1.2, 1.2]) # グラフの表示範囲の設定"
   ]
  },
  {
   "cell_type": "markdown",
   "metadata": {},
   "source": [
    "## 練習: $y=x^2+3x-2$のグラフを描画する"
   ]
  },
  {
   "cell_type": "code",
   "execution_count": null,
   "metadata": {},
   "outputs": [],
   "source": []
  },
  {
   "cell_type": "markdown",
   "metadata": {},
   "source": [
    "# 線形回帰"
   ]
  },
  {
   "cell_type": "markdown",
   "metadata": {},
   "source": [
    "線形回帰モデルの予測\n",
    "\\begin{equation}\n",
    "\\hat{y} =\\theta_0 + \\theta_1 x_1 + \\cdot \\cdot \\cdot+ \\theta_n x_n\n",
    "\\end{equation}\n",
    "\n",
    "- $\\hat{y} $ : 予測された値\n",
    "- n : 特徴量数\n",
    "- $x_i$ : i番目の特徴量\n",
    "- $\\theta_j$ j番目のモデルのパラメータ(バイアス項$\\theta_0$特徴量の重み$\\theta_1, \\theta_2, \\cdot \\cdot \\cdot ,\\theta_n$を含む)"
   ]
  },
  {
   "cell_type": "markdown",
   "metadata": {},
   "source": [
    "ベクトル式で表す\n",
    "\\begin{equation}\n",
    "\\hat{y} =h_\\theta(x) = \\theta^T \\cdot x\n",
    "\\end{equation}\n",
    "\n",
    "- $\\theta$: モデルのパラメータベクトル(バイアスの項$\\theta_0, \\theta_1$から$\\theta_n$項までの特徴量の重みを含む)\n",
    "- $\\theta^T$: $\\theta$の転置\n",
    "- $x$: インスタンスの特徴量ベクトル($x_0$から$x_n$までを含む　ただし$x_0$は1)\n",
    "- $\\theta^T \\cdot x$:  $\\theta^T$と$x$のドット積\n",
    "- $h_\\theta$: モデルパラメータ$\\theta$を使った仮説関数"
   ]
  },
  {
   "cell_type": "markdown",
   "metadata": {},
   "source": [
    "線形回帰のもっとも一般的な性能指標は`平均二乗誤差(Mean Square Error: MSE)`である\n",
    "\n",
    "\\begin{equation}\n",
    "MSE(X, h(\\theta)) = \\frac{1}{m}\\sum_{i=1}^{m}(\\theta^T \\cdot x - y^{(i)})^2\n",
    "\\end{equation}"
   ]
  },
  {
   "cell_type": "markdown",
   "metadata": {},
   "source": [
    "## 正規方程式(最小二乗法のベクトル版)\n",
    "コスト関数を最小にする$\\theta$を見つけるための閉形式解がある  \n",
    "これを正規方程式と呼ぶ\n",
    "\n",
    "\\begin{equation}\n",
    "\\hat{\\theta} = (X^T \\cdot X)^{-1} \\cdot X^T \\cdot y\n",
    "\\end{equation}\n",
    "\n",
    "- $\\hat{\\theta}$: コスト関数を最小にする$\\theta$\n",
    "- y: $y^{(1)}$から$y^{(m)}$までのターゲット値を格納するベクトル"
   ]
  },
  {
   "cell_type": "markdown",
   "metadata": {},
   "source": [
    "### 例題\n",
    "https://mathtrain.jp/seikiequ  \n",
    "(2, 3), (4, 7), (9, 11) というデータの組に対して正規方程式を適用してもっともらしい直線を引け。\n",
    "\n",
    "\n",
    "求める直線の傾きを p，切片を q とおくと\n",
    "\\begin{equation}\n",
    "\\hat{\\theta} = \n",
    "\\begin{pmatrix}\n",
    "  p \\\\\n",
    "  q \n",
    "\\end{pmatrix}\n",
    "\\end{equation}\n",
    "\n",
    "\\begin{equation}\n",
    "X = \n",
    "\\begin{pmatrix}\n",
    "  2 & 1 \\\\\n",
    "  4 & 1 \\\\\n",
    "  9 & 1\n",
    "\\end{pmatrix}\n",
    ", \n",
    "y = \n",
    "\\begin{pmatrix}\n",
    "  3  \\\\\n",
    "  7 \\\\\n",
    "  11\n",
    "\\end{pmatrix}\n",
    "\\end{equation}\n",
    "\n",
    "※Xの`1`はバイアス項"
   ]
  },
  {
   "cell_type": "code",
   "execution_count": 15,
   "metadata": {},
   "outputs": [
    {
     "data": {
      "text/plain": [
       "<matplotlib.collections.PathCollection at 0x10eb750f0>"
      ]
     },
     "execution_count": 15,
     "metadata": {},
     "output_type": "execute_result"
    },
    {
     "data": {
      "image/png": "[encoded data removed]",
      "text/plain": [
       "<Figure size 576x360 with 1 Axes>"
      ]
     },
     "metadata": {
      "needs_background": "light"
     },
     "output_type": "display_data"
    }
   ],
   "source": [
    "X_row = [2, 4, 7]\n",
    "y_row = [3, 7, 11]\n",
    "plt.figure(figsize=(8, 5))\n",
    "plt.scatter(X_row, y_row)"
   ]
  },
  {
   "cell_type": "code",
   "execution_count": 16,
   "metadata": {},
   "outputs": [],
   "source": [
    "X = np.array([[2, 1], [4, 1], [9, 1]])\n",
    "y = np.array([[3], [7], [11]])"
   ]
  },
  {
   "cell_type": "code",
   "execution_count": 17,
   "metadata": {},
   "outputs": [
    {
     "data": {
      "text/plain": [
       "array([[2, 1],\n",
       "       [4, 1],\n",
       "       [9, 1]])"
      ]
     },
     "execution_count": 17,
     "metadata": {},
     "output_type": "execute_result"
    }
   ],
   "source": [
    "X"
   ]
  },
  {
   "cell_type": "code",
   "execution_count": 18,
   "metadata": {},
   "outputs": [
    {
     "data": {
      "text/plain": [
       "array([[ 3],\n",
       "       [ 7],\n",
       "       [11]])"
      ]
     },
     "execution_count": 18,
     "metadata": {},
     "output_type": "execute_result"
    }
   ],
   "source": [
    "y"
   ]
  },
  {
   "cell_type": "markdown",
   "metadata": {},
   "source": [
    "## 問題1:  $\\hat{\\theta}$を計算する\n",
    "\n",
    "- $x^t$は`X.T`で得られる\n",
    "- 内積は`X.dot(y)`を用いる($X \\cdot y$)\n",
    "- 逆行列は`np.linalg.inv(a)`で得られる"
   ]
  },
  {
   "cell_type": "code",
   "execution_count": null,
   "metadata": {},
   "outputs": [],
   "source": []
  },
  {
   "cell_type": "markdown",
   "metadata": {},
   "source": [
    "## 乱数を発生させてやってみる"
   ]
  },
  {
   "cell_type": "code",
   "execution_count": 19,
   "metadata": {},
   "outputs": [
    {
     "data": {
      "text/plain": [
       "[0, 2, 0, 15]"
      ]
     },
     "execution_count": 19,
     "metadata": {},
     "output_type": "execute_result"
    },
    {
     "data": {
      "image/png": "[encoded data removed]",
      "text/plain": [
       "<Figure size 576x360 with 1 Axes>"
      ]
     },
     "metadata": {
      "needs_background": "light"
     },
     "output_type": "display_data"
    }
   ],
   "source": [
    "'''\n",
    "y = 3x+4 + ノイズ\n",
    "'''\n",
    "X = 2 * np.random.rand(100, 1)\n",
    "y = 4 + 3 * X + np.random.randn(100, 1)\n",
    "\n",
    "plt.figure(figsize=(8, 5))\n",
    "plt.scatter(X, y)\n",
    "plt.axis([0, 2, 0, 15])"
   ]
  },
  {
   "cell_type": "code",
   "execution_count": 20,
   "metadata": {},
   "outputs": [
    {
     "data": {
      "text/plain": [
       "array([[3.21276924],\n",
       "       [3.88879792]])"
      ]
     },
     "execution_count": 20,
     "metadata": {},
     "output_type": "execute_result"
    }
   ],
   "source": [
    "X_b = np.c_[ X, np.ones((100, 1))] # バイアス項1を結合している\n",
    "best_theta = np.linalg.inv(X_b.T.dot(X_b)).dot(X_b.T).dot(y)\n",
    "best_theta"
   ]
  },
  {
   "cell_type": "code",
   "execution_count": 21,
   "metadata": {},
   "outputs": [
    {
     "data": {
      "text/plain": [
       "array([[ 3.88879792],\n",
       "       [10.31433639]])"
      ]
     },
     "execution_count": 21,
     "metadata": {},
     "output_type": "execute_result"
    }
   ],
   "source": [
    "X_new = np.array([[0], [2]]) # xが0と2の時のyを予測する\n",
    "X_new_b = np.c_[X_new, np.ones((2, 1))] # バイアス項1を結合している\n",
    "y_predict = X_new_b.dot(best_theta)\n",
    "y_predict"
   ]
  },
  {
   "cell_type": "code",
   "execution_count": 22,
   "metadata": {},
   "outputs": [
    {
     "data": {
      "text/plain": [
       "[0, 2, 0, 15]"
      ]
     },
     "execution_count": 22,
     "metadata": {},
     "output_type": "execute_result"
    },
    {
     "data": {
      "image/png": "[encoded data removed]",
      "text/plain": [
       "<Figure size 576x360 with 1 Axes>"
      ]
     },
     "metadata": {
      "needs_background": "light"
     },
     "output_type": "display_data"
    }
   ],
   "source": [
    "plt.figure(figsize=(8, 5))\n",
    "plt.plot(X_new, y_predict, \"r-\")\n",
    "plt.scatter(X, y)\n",
    "plt.axis([0, 2, 0, 15])"
   ]
  },
  {
   "cell_type": "markdown",
   "metadata": {},
   "source": [
    "## scikit-learnを使用して行う"
   ]
  },
  {
   "cell_type": "code",
   "execution_count": 23,
   "metadata": {},
   "outputs": [
    {
     "data": {
      "text/plain": [
       "LinearRegression(copy_X=True, fit_intercept=True, n_jobs=None,\n",
       "         normalize=False)"
      ]
     },
     "execution_count": 23,
     "metadata": {},
     "output_type": "execute_result"
    }
   ],
   "source": [
    "from sklearn.linear_model import LinearRegression\n",
    "lin_reg = LinearRegression()\n",
    "lin_reg.fit(X, y)"
   ]
  },
  {
   "cell_type": "code",
   "execution_count": 24,
   "metadata": {},
   "outputs": [
    {
     "name": "stdout",
     "output_type": "stream",
     "text": [
      "傾き: [[3.21276924]], 切片[3.88879792]\n"
     ]
    }
   ],
   "source": [
    "print('傾き: {}, 切片{}'.format(lin_reg.coef_, lin_reg.intercept_)) "
   ]
  },
  {
   "cell_type": "code",
   "execution_count": 25,
   "metadata": {},
   "outputs": [
    {
     "data": {
      "text/plain": [
       "array([[ 3.88879792],\n",
       "       [10.31433639]])"
      ]
     },
     "execution_count": 25,
     "metadata": {},
     "output_type": "execute_result"
    }
   ],
   "source": [
    "lin_reg.predict(X_new)"
   ]
  },
  {
   "cell_type": "markdown",
   "metadata": {},
   "source": [
    "## 問題2: y = -2x+2 にノイズを乗せたデータセットを作成して傾きと切片を求める"
   ]
  },
  {
   "cell_type": "code",
   "execution_count": null,
   "metadata": {},
   "outputs": [],
   "source": []
  },
  {
   "cell_type": "markdown",
   "metadata": {},
   "source": [
    "# 勾配下降法\n",
    "正規方程式の処理は大規模な訓練データでもメモリにおさまる限り効率よくできるが、予測インスタンスが２倍、特徴量が2倍になると処理にかかる時間も2倍になってしまう。"
   ]
  },
  {
   "cell_type": "markdown",
   "metadata": {},
   "source": [
    "## バッチ勾配下降法\n",
    "\\begin{equation}\n",
    "\\frac{\\partial}{\\partial \\theta_j}MSE(\\theta) = \\frac{2}{m}\\sum_{i=1}^{m}(\\theta^{T}\\cdot x^{(i)} - y^{(i)})x_j^{(i)}\n",
    "\\end{equation}\n",
    "\n",
    "この偏微分を個別に計算しなくても以下の式を使用すれば全てまとめて計算できる\n",
    "\n",
    "\\begin{equation}\n",
    "\\nabla_\\theta MSE(\\theta) =\\left(\n",
    "                                        \\begin{array}{c}\n",
    "                                          \\frac{\\partial}{\\partial \\theta_0}MSE(\\theta) \\\\\n",
    "                                          \\frac{\\partial}{\\partial \\theta_1}MSE(\\theta)  \\\\\n",
    "                                          \\vdots \\\\\n",
    "                                          \\frac{\\partial}{\\partial \\theta_n}MSE(\\theta)\n",
    "                                        \\end{array}\n",
    "                                     \\right)\n",
    "= \\frac{2}{m} X^T \\cdot (X \\cdot \\theta - y)\n",
    "\\end{equation}\n",
    "\n",
    "勾配ベクトルを得たとき、全体として上むきなら、逆方向に下降する  \n",
    "これは$\\theta$から$\\nabla_\\theta MSE(\\theta)$を引くということになる  \n",
    "ここで学習率$\\eta$を使用して勾配を降るステップの間隔を調整する\n",
    "\n",
    "\\begin{equation}\n",
    "\\theta^{(nextstep)} = \\theta - \\eta \\nabla_\\theta MSE(\\theta)\n",
    "\\end{equation}"
   ]
  },
  {
   "cell_type": "code",
   "execution_count": 26,
   "metadata": {},
   "outputs": [],
   "source": [
    "'''\n",
    "y = 3x+4 + ノイズ\n",
    "'''\n",
    "X = 2 * np.random.rand(100, 1)\n",
    "y = 4 + 3 * X + np.random.randn(100, 1)\n",
    "\n",
    "eta = 0.1\n",
    "n_iterations = 1000\n",
    "m = len(X)\n",
    "X_b = np.c_[ X, np.ones((100, 1))]\n",
    "\n",
    "theta = np.random.randn(2, 1)\n",
    "\n",
    "for iteration in range(n_iterations):\n",
    "    gradients = 2/m * X_b.T.dot(X_b.dot(theta) -y)\n",
    "    theta = theta - eta * gradients"
   ]
  },
  {
   "cell_type": "code",
   "execution_count": 27,
   "metadata": {},
   "outputs": [
    {
     "data": {
      "text/plain": [
       "array([[2.90643435],\n",
       "       [4.06947822]])"
      ]
     },
     "execution_count": 27,
     "metadata": {},
     "output_type": "execute_result"
    }
   ],
   "source": [
    "theta"
   ]
  },
  {
   "cell_type": "code",
   "execution_count": 28,
   "metadata": {},
   "outputs": [],
   "source": [
    "def plot_eta(eta, n_iterations = 1000):\n",
    "    m = len(X_b)\n",
    "    theta = np.random.randn(2, 1)\n",
    "    \n",
    "    plt.figure(figsize=(8, 5))\n",
    "    plt.scatter(X, y)\n",
    "    plt.title('$\\eta$: {}'.format(eta))\n",
    "    \n",
    "    for iteration in range(n_iterations):\n",
    "        if iteration < 10:\n",
    "            gradients = 2/m * X_b.T.dot(X_b.dot(theta) -y)\n",
    "            theta = theta - eta * gradients\n",
    "            y_predict = X_new_b.dot(theta)\n",
    "            plt.plot(X_new, y_predict, \"r-\")"
   ]
  },
  {
   "cell_type": "code",
   "execution_count": 29,
   "metadata": {},
   "outputs": [
    {
     "data": {
      "image/png": "[encoded data removed]",
      "text/plain": [
       "<Figure size 576x360 with 1 Axes>"
      ]
     },
     "metadata": {
      "needs_background": "light"
     },
     "output_type": "display_data"
    }
   ],
   "source": [
    "plot_eta(0.1)"
   ]
  },
  {
   "cell_type": "markdown",
   "metadata": {},
   "source": [
    "etaの数値を変えてみて"
   ]
  },
  {
   "cell_type": "code",
   "execution_count": null,
   "metadata": {},
   "outputs": [],
   "source": []
  }
 ],
 "metadata": {
  "kernelspec": {
   "display_name": "Python 3",
   "language": "python",
   "name": "python3"
  },
  "language_info": {
   "codemirror_mode": {
    "name": "ipython",
    "version": 3
   },
   "file_extension": ".py",
   "mimetype": "text/x-python",
   "name": "python",
   "nbconvert_exporter": "python",
   "pygments_lexer": "ipython3",
   "version": "3.6.5"
  }
 },
 "nbformat": 4,
 "nbformat_minor": 2
}
